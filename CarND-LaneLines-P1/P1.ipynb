{
 "cells": [
  {
   "cell_type": "markdown",
   "metadata": {},
   "source": [
    "## Project: **Finding Lane Lines on the Road** \n",
    "***\n",
    " [write up template](https://github.com/udacity/CarND-LaneLines-P1/blob/master/writeup_template.md) \n",
    " [rubric points](https://review.udacity.com/#!/rubrics/322/view)  \n",
    "\n",
    "---\n",
    "First test image: 'test_images/solidWhiteRight.jpg'.  \n",
    "\n",
    "**Note: If, at any point, you encounter frozen display windows or other confounding issues, you can always start again with a clean slate by going to the \"Kernel\" menu above and selecting \"Restart & Clear Output\".**\n",
    "\n",
    "---"
   ]
  },
  {
   "cell_type": "markdown",
   "metadata": {},
   "source": [
    "**Tools:\n",
    "color selection, region of interest selection, grayscaling, Gaussian smoothing, Canny Edge Detection and Hough Tranform line detection.**\n",
    "\n",
    "---\n",
    "\n",
    "<figure>\n",
    " <img src=\"examples/line-segments-example.jpg\" width=\"380\" alt=\"Combined Image\" />\n",
    " <figcaption>\n",
    " <p></p> \n",
    " <p style=\"text-align: center;\"> Your output should look something like this (above) after detecting line segments using the helper functions below </p> \n",
    " </figcaption>\n",
    "</figure>\n",
    " <p></p> \n",
    "<figure>\n",
    " <img src=\"examples/laneLines_thirdPass.jpg\" width=\"380\" alt=\"Combined Image\" />\n",
    " <figcaption>\n",
    " <p></p> \n",
    " <p style=\"text-align: center;\"> Your goal is to connect/average/extrapolate line segments to get output like this</p> \n",
    " </figcaption>\n",
    "</figure>"
   ]
  },
  {
   "cell_type": "markdown",
   "metadata": {},
   "source": [
    "## Import Packages"
   ]
  },
  {
   "cell_type": "code",
   "execution_count": 718,
   "metadata": {},
   "outputs": [],
   "source": [
    "#importing some useful packages\n",
    "import matplotlib.pyplot as plt\n",
    "import matplotlib.image as mpimg\n",
    "import numpy as np\n",
    "import cv2\n",
    "import math\n",
    "# Import everything needed to edit/save/watch video clips\n",
    "from moviepy.editor import VideoFileClip\n",
    "from IPython.display import HTML\n",
    "%matplotlib inline"
   ]
  },
  {
   "cell_type": "markdown",
   "metadata": {},
   "source": [
    "## Useful numpy functions"
   ]
  },
  {
   "cell_type": "markdown",
   "metadata": {},
   "source": [
    "`np.polyfit((x1,x2),(y1,y2))`  Fit lines (y=Ax+B) , return [A, B]"
   ]
  },
  {
   "cell_type": "markdown",
   "metadata": {},
   "source": [
    "## Useful OpenCV functions"
   ]
  },
  {
   "cell_type": "markdown",
   "metadata": {},
   "source": [
    "`cv2.inRange()` for color selection  \n",
    "`cv2.fillPoly()` for regions selection  \n",
    "`cv2.line()` to draw lines on an image given endpoints  \n",
    "`cv2.addWeighted()` to coadd / overlay two images\n",
    "`cv2.cvtColor()` to grayscale or change color\n",
    "`cv2.imwrite()` to output images to file  \n",
    "`cv2.bitwise_and()` to apply a mask to an image\n",
    "\n",
    "\n",
    "`cv2.cvtColor(img, cv2.COLOR_RGB2GRAY)` apply grayscal transform\n",
    "`cv2.Canny(img, low_threshold, high_threshold)` apply canny transform\n",
    "`cv2.GaussianBlur(img, (kernel_size, kernel_size), 0)` apply gaussian noise kerel\n"
   ]
  },
  {
   "cell_type": "markdown",
   "metadata": {},
   "source": [
    "## Helper Functions from Udacity"
   ]
  },
  {
   "cell_type": "code",
   "execution_count": null,
   "metadata": {},
   "outputs": [],
   "source": [
    "def region_of_interest(img, vertices):\n",
    "    \"\"\"\n",
    "    Applies an image mask.\n",
    "    \n",
    "    Only keeps the region of the image defined by the polygon\n",
    "    formed from `vertices`. The rest of the image is set to black.\n",
    "    \n",
    "    Attention: vertices in form (col, row)  (x,y)\n",
    "    \"\"\"\n",
    "    #defining a blank mask to start with\n",
    "    mask = np.zeros_like(img)   \n",
    "    \n",
    "    #defining a 3 channel or 1 channel color to fill the mask with depending on the input image\n",
    "    if len(img.shape) > 2:\n",
    "        channel_count = img.shape[2]  # i.e. 3 or 4 depending on your image\n",
    "        ignore_mask_color = (255,) * channel_count\n",
    "    else:\n",
    "        ignore_mask_color = 255\n",
    "        \n",
    "    #filling pixels inside the polygon defined by \"vertices\" with the fill color    \n",
    "    cv2.fillPoly(mask, vertices, ignore_mask_color)\n",
    "    \n",
    "    #returning the image only where mask pixels are nonzero\n",
    "    masked_image = cv2.bitwise_and(img, mask)\n",
    "    return masked_image\n",
    "\n",
    "\n",
    "def draw_lines(img, lines, color=[255, 0, 0], thickness=2):\n",
    "    \"\"\"\n",
    "    NOTE: this is the function you might want to use as a starting point once you want to \n",
    "    average/extrapolate the line segments you detect to map out the full\n",
    "    extent of the lane (going from the result shown in raw-lines-example.mp4\n",
    "    to that shown in P1_example.mp4).  \n",
    "    \n",
    "    Think about things like separating line segments by their \n",
    "    slope ((y2-y1)/(x2-x1)) to decide which segments are part of the left\n",
    "    line vs. the right line.  Then, you can average the position of each of \n",
    "    the lines and extrapolate to the top and bottom of the lane.\n",
    "    \n",
    "    This function draws `lines` with `color` and `thickness`.    \n",
    "    Lines are drawn on the image inplace (mutates the image).\n",
    "    If you want to make the lines semi-transparent, think about combining\n",
    "    this function with the weighted_img() function below\n",
    "    \"\"\"\n",
    "    for line in lines:\n",
    "        #print(line)\n",
    "        x1,y1,x2,y2 = line\n",
    "        #print(x1,y1,x2,y2)\n",
    "        cv2.line(img, (x1, y1), (x2, y2), color, thickness)\n",
    "        \n",
    "        \n",
    "    \n",
    "    # compute intersection\n",
    "    # m1 * x1 + b1 = y1\n",
    "    # m2 * x2 + b2 = y2\n",
    "    # (m2*x2 - m1*x1) + (b2- b1) = y2-y1\n",
    "    # (m2 - m1) * x_inter + (b2 - b1) = y_inter\n",
    "    # x_inter = (m2 - m1) / (b2 - b1) \n",
    "    # y_inter = m1 * x_inter + b1\n",
    "def hough_lines(img, rho, theta, threshold, min_line_len, max_line_gap):\n",
    "    \"\"\"\n",
    "    `img` should be the output of a Canny transform.\n",
    "        \n",
    "    Returns an image with hough lines drawn.\n",
    "    \"\"\"\n",
    "    lines = cv2.HoughLinesP(img, rho, theta, threshold, np.array([]), minLineLength=min_line_len, maxLineGap=max_line_gap)\n",
    "    line_img = np.zeros((img.shape[0], img.shape[1], 3), dtype=np.uint8)\n",
    "    # modified this to use the new helper function I implemented\n",
    "    draw_lines(line_img, lines)\n",
    "    return line_img"
   ]
  },
  {
   "cell_type": "markdown",
   "metadata": {},
   "source": [
    "## Helper Function \n",
    "My implementation of helper functions"
   ]
  },
  {
   "cell_type": "code",
   "execution_count": null,
   "metadata": {},
   "outputs": [],
   "source": [
    "#RGB to grayscale, apply Gaussian smoothing to remove noise \n",
    "#and easier to find edge: ouput img_blur\n",
    "def gray_blur(input_image):\n",
    "    # step 1. RGB to grayscale\n",
    "    img_gray = cv2.cvtColor(input_image, cv2.COLOR_RGB2GRAY)\n",
    "    #print(\"img_gray\")\n",
    "    #plt.imshow(img_gray, cmap=\"gray\")\n",
    "    #plt.show()\n",
    "    \n",
    "    # step 1. Gaussian smoothing\n",
    "    # Define a kernel size and apply Gaussian smoothing\n",
    "    kernel_size = 5\n",
    "    # standard deviation = 0 for Gaussian blur\n",
    "    img_blur = cv2.GaussianBlur(img_gray,(kernel_size, kernel_size),0)\n",
    "    return img_blur\n",
    "\n",
    "# use canny edge detector to get edges, then use mask to keep only region of interest\n",
    "def canny_region(img_blur):\n",
    "    # step 2. Canny edge detector \n",
    "    # Define our parameters for Canny and apply\n",
    "    low_threshold_canny = 50\n",
    "    high_threshold_canny = 150\n",
    "    img_edges = cv2.Canny(img_blur, low_threshold_canny, high_threshold_canny)\n",
    "    #print(\"img_edges\")\n",
    "    #plt.imshow(img_edges, cmap=\"gray\")\n",
    "    #plt.show()\n",
    "    \n",
    "    # step 3. mask by region\n",
    "    # Define a four sided polygon to mask\n",
    "    imshape = img_blur.shape\n",
    "    # Attention: vertices in form (col, row)  (x,y)\n",
    "    vertices = np.array([[(0,imshape[0]),(450, 315), (480, 315), (imshape[1],imshape[0])]], dtype=np.int32)\n",
    "    \n",
    "    img_edges_masked = region_of_interest(img_edges, vertices)\n",
    "    #print(\"img_edges_masked\")\n",
    "    #plt.imshow(img_edges_masked)\n",
    "    #plt.show()\n",
    "    return img_edges_masked\n",
    "\n",
    "def hough_two_lines(original_image, img_edges_masked):\n",
    "    # step 4. Hough transform to detect lines in an image, \n",
    "    # input : img_edges_masked, \n",
    "    # output: img_lines\n",
    "    # Define the Hough transform parameters\n",
    "    # Make a blank the same size as our image to draw on\n",
    "    rho = 2 # distance resolution in pixels of the Hough grid\n",
    "    theta = np.pi/180 # one degree , angular resolution in radians of the Hough grid\n",
    "    # intuitively, threshold is minimum number of points for a line to be considered as line\n",
    "    # thus, min_line_len should larger than threshold\n",
    "    # max_line_gap should larger than min_line_len\n",
    "    # since pixels on line has distance within max_line_gap, the distance is larger than line length\n",
    "    # at least 15 points in image space need to be associated with each line segment\n",
    "    threshold = 50     # minimum number of votes (intersections in Hough grid cell)\n",
    "    min_line_len = 100 #minimum number of pixels making up a line\n",
    "    max_line_gap = 100    # maximum gap in pixels between connectable line segments\n",
    "    #img_lines = hough_lines(img_edges_masked, rho, theta, threshold, min_line_len, max_line_gap)\n",
    "    \n",
    "    lines = cv2.HoughLinesP(img_edges_masked, rho, theta, threshold, np.array([]), minLineLength=min_line_len, maxLineGap=max_line_gap)\n",
    "    \n",
    "    #line_img = np.zeros((original_image.shape[0], original_image.shape[1], 3), dtype=np.uint8)\n",
    "    # modified this to use the new helper function I implemented\n",
    "    #draw_lines(line_img, lines)\n",
    "    twoLines = two_lanes(lines, img_edges_masked.shape)\n",
    "    #print (\"two lines\",twoLines)\n",
    "    # draw lines on a blank image, then combine that image with lines with original image\n",
    "    img_lines = draw_two_lines(original_image, twoLines)\n",
    "    \n",
    "    #print(\"img_lines\")\n",
    "    #plt.imshow(img_lines)\n",
    "    #plt.show()\n",
    "    return img_lines\n",
    "    \n",
    "# extrapolate / average lines from Hogh Transform into only left and right lines\n",
    "def two_lanes(lines, image_shape):\n",
    "    # number set by printing out slope and biases\n",
    "    min_m = 0.5\n",
    "    max_m = 0.8\n",
    "    # slope and bias for left lane\n",
    "    m_left = np.array([])\n",
    "    b_left = np.array([])\n",
    "    \n",
    "    m_right= np.array([])\n",
    "    b_right = np.array([])\n",
    "    \n",
    "    y_min = image_shape[0]\n",
    "    # calculate slope and bias for every line\n",
    "    \n",
    "    \n",
    "    \n",
    "    # squeeze:  removes one-dimensional entry from the shape of the given array\n",
    "    #lines.shape                 (16,1,4)\n",
    "    # np.squeeze(lines).shape    (16,4)\n",
    "    lines = np.squeeze(lines)\n",
    "    \n",
    "    # line :  (x1, y1, x2, y2) end points\n",
    "    for line in lines:\n",
    "        y_min = min(line[1], min(line[3], y_min))\n",
    "        #np.polyfit((x1,x2),(y1,y2))\n",
    "        fit = np.polyfit((line[0],line[2]), (line[1],line[3]),1)\n",
    "        m = fit[0]\n",
    "        b = fit[1]\n",
    "        # remove extreme values\n",
    "        if (np.absolute(m)>min_m or np.absolute(m)<max_m):\n",
    "            # left lane\n",
    "            if (m>0):\n",
    "                m_left = np.append(m_left, m)\n",
    "                b_left = np.append(b_left, b)\n",
    "            # right lane\n",
    "            else:\n",
    "                m_right = np.append(m_right, m)\n",
    "                b_right = np.append(b_right, b)\n",
    "    #print (\"m_left\", m_left)\n",
    "    #print (\"m_right\", m_right)\n",
    "    # obtain mean for slope and bias\n",
    "    mean_m_left = np.mean(m_left)\n",
    "    mean_m_right = np.mean(m_right)\n",
    "    mean_b_left = np.mean(b_left)\n",
    "    mean_b_right = np.mean(b_right)\n",
    "    \n",
    "    #print(\"mean\",mean_m_left,mean_m_right,mean_b_left,mean_b_right)\n",
    "    # 0.6  -0.6  5.1  600.2  \n",
    "    # compute end points for left and right lines\n",
    "    y_left_close = image_shape[0]\n",
    "    y_right_close = image_shape[0]\n",
    "    \n",
    "    # the end of line close to driver\n",
    "    x_left_close = (y_left_close - mean_b_left) / mean_m_left\n",
    "    x_right_close = (y_right_close - mean_b_right) / mean_m_right\n",
    "    # the end of line far away from driver, horizon direction\n",
    "    # y_left_far == y_right_far == y_min\n",
    "    x_left_far = (y_min - mean_b_left) / mean_m_left\n",
    "    x_right_far = (y_min - mean_b_right) / mean_m_right\n",
    "    # question: np.array([[]])?\n",
    "    lineLeft= [x_left_close, y_left_close, x_left_far, y_min]\n",
    "    lineRight= [x_right_close, y_right_close, x_right_far, y_min]\n",
    "    twoLines = np.array([lineLeft, lineRight]).astype(int)\n",
    "    \n",
    "    return twoLines\n",
    "\n",
    "def draw_two_lines(original_image, twoLines):\n",
    "    blank_edge = np.zeros(original_image.shape, dtype=np.uint8)\n",
    "    draw_lines(blank_edge, twoLines, color=[255, 0, 0], thickness=10)\n",
    "    #blank_edge = np.dstack((blank, blank, blank))\n",
    "    combo = cv2.addWeighted(blank_edge, 0.8, original_image, 1, 0)\n",
    "    return combo"
   ]
  },
  {
   "cell_type": "markdown",
   "metadata": {},
   "source": [
    "## Test Images"
   ]
  },
  {
   "cell_type": "code",
   "execution_count": null,
   "metadata": {},
   "outputs": [],
   "source": [
    "import os\n",
    "os.listdir(\"test_images/\")"
   ]
  },
  {
   "cell_type": "markdown",
   "metadata": {},
   "source": [
    "## Build a Lane Finding Pipeline\n",
    "\n"
   ]
  },
  {
   "cell_type": "markdown",
   "metadata": {},
   "source": [
    "Build the pipeline and run your solution on all test_images. Make copies into the `test_images_output` directory, and you can use the images in your writeup report.\n",
    "\n",
    "Try tuning the various parameters, especially the low and high Canny thresholds as well as the Hough lines parameters.\n",
    "\n",
    "Summary of my implementation:\n",
    "1. RGB to grayscale, apply Gaussian smoothing to remove noise and easier to find edge: \n",
    "    ouput img_blur\n",
    "2. Canny edge detection, output img_edges\n",
    "3. Use cv2.fillPoly to ignore everything outside region of interst, \n",
    "    input: img_edges,      output: img_edges_masked\n",
    "4. Hough transform to detect lines in an image, \n",
    "    input : img_edges_masked,  output: img_lines\n",
    "5. Extrapolate line segments, superimpose on the original image, output as final result"
   ]
  },
  {
   "cell_type": "code",
   "execution_count": null,
   "metadata": {},
   "outputs": [],
   "source": [
    "# My pipeline that will draw lane lines on the test_images\n",
    "# then save them to the test_images_output directory.\n",
    "\n",
    "# draw red lane lines on the original test_images\n",
    "def lane_lines_pipeline(input_image):\n",
    "    \n",
    "    img_blur = gray_blur(input_image)\n",
    "\n",
    "    img_edges_masked = canny_region(img_blur)\n",
    "\n",
    "    img_combo = hough_two_lines(input_image, img_edges_masked)\n",
    "    \n",
    "    return img_combo"
   ]
  },
  {
   "cell_type": "code",
   "execution_count": null,
   "metadata": {},
   "outputs": [],
   "source": [
    "## Test on images\n",
    "#reading in an image\n",
    "test_image = mpimg.imread('test_images/solidWhiteRight.jpg')\n",
    "\n",
    "#printing out some stats and plotting\n",
    "print('This image is:', type(test_image), 'with dimensions:', test_image.shape)\n",
    "plt.imshow(test_image)\n",
    "\n",
    "result = lane_lines_pipeline(test_image)"
   ]
  },
  {
   "cell_type": "markdown",
   "metadata": {},
   "source": [
    "## Test on Videos\n",
    "\n",
    "test solution on two provided videos:\n",
    "\n",
    "`solidWhiteRight.mp4`\n",
    "\n",
    "`solidYellowLeft.mp4`\n",
    "\n",
    "**Note: if you get an import error when you run the next cell, try changing your kernel (select the Kernel menu above --> Change Kernel). Still have problems? Try relaunching Jupyter Notebook from the terminal prompt. Also, consult the forums for more troubleshooting tips.**\n",
    "\n",
    "**If you get an error that looks like this:**\n",
    "```\n",
    "NeedDownloadError: Need ffmpeg exe. \n",
    "You can download it by calling: \n",
    "imageio.plugins.ffmpeg.download()\n",
    "```\n",
    "**Follow the instructions in the error message and check out [this forum post](https://discussions.udacity.com/t/project-error-of-test-on-videos/274082) for more troubleshooting tips across operating systems.**"
   ]
  },
  {
   "cell_type": "code",
   "execution_count": null,
   "metadata": {},
   "outputs": [],
   "source": [
    "def process_image(image):\n",
    "    result = lane_lines_pipeline(image)\n",
    "    return result"
   ]
  },
  {
   "cell_type": "markdown",
   "metadata": {},
   "source": [
    "Let's try the one with the solid white lane on the right first ..."
   ]
  },
  {
   "cell_type": "code",
   "execution_count": null,
   "metadata": {},
   "outputs": [],
   "source": [
    "white_output = 'test_videos_output/solidWhiteRight.mp4'  \n",
    "## try your pipeline on a shorter subclip of the video   .subclip(start_sec, end_sec)\n",
    "## uncomment the following line for a subclip of the first 5 seconds\n",
    "#clip1 = VideoFileClip(\"test_videos/solidWhiteRight.mp4\").subclip(0,5)\n",
    "\n",
    "clip1 = VideoFileClip(\"test_videos/solidWhiteRight.mp4\")  \n",
    "# You can also modify the display of a clip with clip.fl_imag\n",
    "white_clip = clip1.fl_image(process_image) #NOTE: this function expects color images!!\n",
    "%time white_clip.write_videofile(white_output, audio=False)"
   ]
  },
  {
   "cell_type": "markdown",
   "metadata": {},
   "source": [
    "Play the video inline, or if you prefer find the video in your filesystem (should be in the same directory) and play it in your video player of choice."
   ]
  },
  {
   "cell_type": "code",
   "execution_count": null,
   "metadata": {},
   "outputs": [],
   "source": [
    "HTML(\"\"\"\n",
    "<video width=\"960\" height=\"540\" controls>\n",
    "  <source src=\"{0}\">\n",
    "</video>\n",
    "\"\"\".format(white_output))"
   ]
  },
  {
   "cell_type": "markdown",
   "metadata": {},
   "source": [
    "## Improve the draw_lines() function\n",
    "\n",
    "**At this point, if you were successful with making the pipeline and tuning parameters, you probably have the Hough line segments drawn onto the road, but what about identifying the full extent of the lane and marking it clearly as in the example video (P1_example.mp4)?  Think about defining a line to run the full length of the visible lane based on the line segments you identified with the Hough Transform. As mentioned previously, try to average and/or extrapolate the line segments you've detected to map out the full extent of the lane lines. You can see an example of the result you're going for in the video \"P1_example.mp4\".**\n",
    "\n",
    "**Go back and modify your draw_lines function accordingly and try re-running your pipeline. The new output should draw a single, solid line over the left lane line and a single, solid line over the right lane line. The lines should start from the bottom of the image and extend out to the top of the region of interest.**"
   ]
  },
  {
   "cell_type": "markdown",
   "metadata": {},
   "source": [
    "Now for the one with the solid yellow lane on the left. This one's more tricky!"
   ]
  },
  {
   "cell_type": "code",
   "execution_count": null,
   "metadata": {},
   "outputs": [],
   "source": [
    "yellow_output = 'test_videos_output/solidYellowLeft.mp4'\n",
    "## To speed up the testing process you may want to try your pipeline on a shorter subclip of the video\n",
    "## To do so add .subclip(start_second,end_second) to the end of the line below\n",
    "## Where start_second and end_second are integer values representing the start and end of the subclip\n",
    "## You may also uncomment the following line for a subclip of the first 5 seconds\n",
    "##clip2 = VideoFileClip('test_videos/solidYellowLeft.mp4').subclip(0,5)\n",
    "clip2 = VideoFileClip('test_videos/solidYellowLeft.mp4')\n",
    "yellow_clip = clip2.fl_image(process_image)\n",
    "%time yellow_clip.write_videofile(yellow_output, audio=False)"
   ]
  },
  {
   "cell_type": "code",
   "execution_count": null,
   "metadata": {},
   "outputs": [],
   "source": [
    "HTML(\"\"\"\n",
    "<video width=\"960\" height=\"540\" controls>\n",
    "  <source src=\"{0}\">\n",
    "</video>\n",
    "\"\"\".format(yellow_output))"
   ]
  },
  {
   "cell_type": "markdown",
   "metadata": {},
   "source": [
    "## Writeup and Submission\n",
    "\n",
    "If you're satisfied with your video outputs, it's time to make the report writeup in a pdf or markdown file. Once you have this Ipython notebook ready along with the writeup, it's time to submit for review! Here is a [link](https://github.com/udacity/CarND-LaneLines-P1/blob/master/writeup_template.md) to the writeup template file.\n"
   ]
  },
  {
   "cell_type": "markdown",
   "metadata": {
    "collapsed": true
   },
   "source": [
    "## Optional Challenge\n",
    "\n",
    "Try your lane finding pipeline on the video below.  Does it still work?  Can you figure out a way to make it more robust?  If you're up for the challenge, modify your pipeline so it works with this video and submit it along with the rest of your project!"
   ]
  },
  {
   "cell_type": "code",
   "execution_count": null,
   "metadata": {},
   "outputs": [],
   "source": [
    "challenge_output = 'test_videos_output/challenge.mp4'\n",
    "## To speed up the testing process you may want to try your pipeline on a shorter subclip of the video\n",
    "## To do so add .subclip(start_second,end_second) to the end of the line below\n",
    "## Where start_second and end_second are integer values representing the start and end of the subclip\n",
    "## You may also uncomment the following line for a subclip of the first 5 seconds\n",
    "##clip3 = VideoFileClip('test_videos/challenge.mp4').subclip(0,5)\n",
    "clip3 = VideoFileClip('test_videos/challenge.mp4')\n",
    "challenge_clip = clip3.fl_image(process_image)\n",
    "%time challenge_clip.write_videofile(challenge_output, audio=False)"
   ]
  },
  {
   "cell_type": "code",
   "execution_count": null,
   "metadata": {},
   "outputs": [],
   "source": [
    "HTML(\"\"\"\n",
    "<video width=\"960\" height=\"540\" controls>\n",
    "  <source src=\"{0}\">\n",
    "</video>\n",
    "\"\"\".format(challenge_output))"
   ]
  }
 ],
 "metadata": {
  "anaconda-cloud": {},
  "kernelspec": {
   "display_name": "Python 3",
   "language": "python",
   "name": "python3"
  },
  "language_info": {
   "codemirror_mode": {
    "name": "ipython",
    "version": 3
   },
   "file_extension": ".py",
   "mimetype": "text/x-python",
   "name": "python",
   "nbconvert_exporter": "python",
   "pygments_lexer": "ipython3",
   "version": "3.5.2"
  },
  "widgets": {
   "state": {},
   "version": "1.1.2"
  }
 },
 "nbformat": 4,
 "nbformat_minor": 1
}
